{
 "cells": [
  {
   "cell_type": "code",
   "execution_count": 1,
   "metadata": {},
   "outputs": [],
   "source": [
    "import torch"
   ]
  },
  {
   "cell_type": "code",
   "execution_count": 2,
   "metadata": {},
   "outputs": [
    {
     "name": "stdout",
     "output_type": "stream",
     "text": [
      "tensor([1.], device='mps:0')\n"
     ]
    }
   ],
   "source": [
    "if torch.backends.mps.is_available():\n",
    "    mps_device = torch.device(\"mps\")\n",
    "    x = torch.ones(1, device=mps_device)\n",
    "    print (x)\n",
    "else:\n",
    "    print (\"MPS device not found.\")"
   ]
  },
  {
   "cell_type": "code",
   "execution_count": 5,
   "metadata": {},
   "outputs": [
    {
     "name": "stdout",
     "output_type": "stream",
     "text": [
      "Python Platform: macOS-13.4-arm64-arm-64bit\n",
      "PyTorch Version: 2.1.0.dev20230618\n",
      "\n",
      "Python 3.11.4 (main, Jun  7 2023, 00:34:59) [Clang 14.0.3 (clang-1403.0.22.14.1)]\n",
      "Pandas 2.0.2\n",
      "Scikit-Learn 1.2.2\n",
      "GPU is NOT AVAILABLE\n",
      "MPS (Apple Metal) is AVAILABLE\n",
      "Target device is mps\n"
     ]
    }
   ],
   "source": [
    "import sys\n",
    "import platform\n",
    "import torch\n",
    "import pandas as pd\n",
    "import sklearn as sk\n",
    "\n",
    "has_gpu = torch.cuda.is_available()\n",
    "has_mps = torch.backends.mps.is_available()\n",
    "device = \"mps\" if has_mps \\\n",
    "    else \"gpu\" if has_gpu else \"cpu\"\n",
    "\n",
    "print(f\"Python Platform: {platform.platform()}\")\n",
    "print(f\"PyTorch Version: {torch.__version__}\")\n",
    "print()\n",
    "print(f\"Python {sys.version}\")\n",
    "print(f\"Pandas {pd.__version__}\")\n",
    "print(f\"Scikit-Learn {sk.__version__}\")\n",
    "print(\"GPU is\", \"available\" if has_gpu else \"NOT AVAILABLE\")\n",
    "print(\"MPS (Apple Metal) is\", \"AVAILABLE\" if has_mps else \"NOT AVAILABLE\")\n",
    "print(f\"Target device is {device}\")"
   ]
  },
  {
   "attachments": {},
   "cell_type": "markdown",
   "metadata": {},
   "source": [
    "### MNIST IN PYTORCH ON APPLE SILICON GPU"
   ]
  },
  {
   "cell_type": "code",
   "execution_count": 7,
   "metadata": {},
   "outputs": [],
   "source": [
    "import torch\n",
    "import torch.nn as nn\n",
    "import torch.nn.functional as F\n",
    "import torch.optim as optim\n",
    "import torchvision\n",
    "import torchvision.transforms as transforms\n",
    "from torchvision import datasets"
   ]
  },
  {
   "cell_type": "code",
   "execution_count": 8,
   "metadata": {},
   "outputs": [
    {
     "name": "stderr",
     "output_type": "stream",
     "text": [
      "5.0%"
     ]
    },
    {
     "name": "stdout",
     "output_type": "stream",
     "text": [
      "Target device is mps\n",
      "Loading MNIST dataset...\n",
      "Downloading http://yann.lecun.com/exdb/mnist/train-images-idx3-ubyte.gz\n",
      "Downloading http://yann.lecun.com/exdb/mnist/train-images-idx3-ubyte.gz to ./MNIST/raw/train-images-idx3-ubyte.gz\n"
     ]
    },
    {
     "name": "stderr",
     "output_type": "stream",
     "text": [
      "100.0%\n"
     ]
    },
    {
     "name": "stdout",
     "output_type": "stream",
     "text": [
      "Extracting ./MNIST/raw/train-images-idx3-ubyte.gz to ./MNIST/raw\n",
      "\n",
      "Downloading http://yann.lecun.com/exdb/mnist/train-labels-idx1-ubyte.gz\n",
      "Downloading http://yann.lecun.com/exdb/mnist/train-labels-idx1-ubyte.gz to ./MNIST/raw/train-labels-idx1-ubyte.gz\n"
     ]
    },
    {
     "name": "stderr",
     "output_type": "stream",
     "text": [
      "100.0%\n",
      "65.6%"
     ]
    },
    {
     "name": "stdout",
     "output_type": "stream",
     "text": [
      "Extracting ./MNIST/raw/train-labels-idx1-ubyte.gz to ./MNIST/raw\n",
      "\n",
      "Downloading http://yann.lecun.com/exdb/mnist/t10k-images-idx3-ubyte.gz\n",
      "Downloading http://yann.lecun.com/exdb/mnist/t10k-images-idx3-ubyte.gz to ./MNIST/raw/t10k-images-idx3-ubyte.gz\n"
     ]
    },
    {
     "name": "stderr",
     "output_type": "stream",
     "text": [
      "100.0%\n",
      "100.0%\n"
     ]
    },
    {
     "name": "stdout",
     "output_type": "stream",
     "text": [
      "Extracting ./MNIST/raw/t10k-images-idx3-ubyte.gz to ./MNIST/raw\n",
      "\n",
      "Downloading http://yann.lecun.com/exdb/mnist/t10k-labels-idx1-ubyte.gz\n",
      "Downloading http://yann.lecun.com/exdb/mnist/t10k-labels-idx1-ubyte.gz to ./MNIST/raw/t10k-labels-idx1-ubyte.gz\n",
      "Extracting ./MNIST/raw/t10k-labels-idx1-ubyte.gz to ./MNIST/raw\n",
      "\n",
      "Done.\n",
      "Train Epoch: 1 [0/60000 (0%)]\tLoss: 2.310721\n",
      "Train Epoch: 1 [6400/60000 (11%)]\tLoss: 0.606480\n",
      "Train Epoch: 1 [12800/60000 (21%)]\tLoss: 0.479934\n",
      "Train Epoch: 1 [19200/60000 (32%)]\tLoss: 0.247395\n",
      "Train Epoch: 1 [25600/60000 (43%)]\tLoss: 0.186194\n",
      "Train Epoch: 1 [32000/60000 (53%)]\tLoss: 0.222960\n",
      "Train Epoch: 1 [38400/60000 (64%)]\tLoss: 0.103005\n",
      "Train Epoch: 1 [44800/60000 (75%)]\tLoss: 0.099257\n",
      "Train Epoch: 1 [51200/60000 (85%)]\tLoss: 0.049124\n",
      "Train Epoch: 1 [57600/60000 (96%)]\tLoss: 0.082247\n",
      "\n",
      "Test set: Average loss: 0.0898, Accuracy: 9735/10000 (97%)\n",
      "\n",
      "Train Epoch: 2 [0/60000 (0%)]\tLoss: 0.144750\n",
      "Train Epoch: 2 [6400/60000 (11%)]\tLoss: 0.121607\n",
      "Train Epoch: 2 [12800/60000 (21%)]\tLoss: 0.088173\n",
      "Train Epoch: 2 [19200/60000 (32%)]\tLoss: 0.022042\n",
      "Train Epoch: 2 [25600/60000 (43%)]\tLoss: 0.049248\n",
      "Train Epoch: 2 [32000/60000 (53%)]\tLoss: 0.064193\n",
      "Train Epoch: 2 [38400/60000 (64%)]\tLoss: 0.082567\n",
      "Train Epoch: 2 [44800/60000 (75%)]\tLoss: 0.095982\n",
      "Train Epoch: 2 [51200/60000 (85%)]\tLoss: 0.043877\n",
      "Train Epoch: 2 [57600/60000 (96%)]\tLoss: 0.083345\n",
      "\n",
      "Test set: Average loss: 0.0665, Accuracy: 9778/10000 (98%)\n",
      "\n",
      "Train Epoch: 3 [0/60000 (0%)]\tLoss: 0.078690\n",
      "Train Epoch: 3 [6400/60000 (11%)]\tLoss: 0.278945\n",
      "Train Epoch: 3 [12800/60000 (21%)]\tLoss: 0.044129\n",
      "Train Epoch: 3 [19200/60000 (32%)]\tLoss: 0.151681\n",
      "Train Epoch: 3 [25600/60000 (43%)]\tLoss: 0.027804\n",
      "Train Epoch: 3 [32000/60000 (53%)]\tLoss: 0.056502\n",
      "Train Epoch: 3 [38400/60000 (64%)]\tLoss: 0.026246\n",
      "Train Epoch: 3 [44800/60000 (75%)]\tLoss: 0.013736\n",
      "Train Epoch: 3 [51200/60000 (85%)]\tLoss: 0.054063\n",
      "Train Epoch: 3 [57600/60000 (96%)]\tLoss: 0.045282\n",
      "\n",
      "Test set: Average loss: 0.0478, Accuracy: 9855/10000 (99%)\n",
      "\n",
      "Train Epoch: 4 [0/60000 (0%)]\tLoss: 0.010855\n",
      "Train Epoch: 4 [6400/60000 (11%)]\tLoss: 0.048411\n",
      "Train Epoch: 4 [12800/60000 (21%)]\tLoss: 0.038492\n",
      "Train Epoch: 4 [19200/60000 (32%)]\tLoss: 0.043034\n",
      "Train Epoch: 4 [25600/60000 (43%)]\tLoss: 0.011981\n",
      "Train Epoch: 4 [32000/60000 (53%)]\tLoss: 0.038670\n",
      "Train Epoch: 4 [38400/60000 (64%)]\tLoss: 0.039836\n",
      "Train Epoch: 4 [44800/60000 (75%)]\tLoss: 0.043836\n",
      "Train Epoch: 4 [51200/60000 (85%)]\tLoss: 0.049469\n",
      "Train Epoch: 4 [57600/60000 (96%)]\tLoss: 0.018370\n",
      "\n",
      "Test set: Average loss: 0.0423, Accuracy: 9862/10000 (99%)\n",
      "\n",
      "Train Epoch: 5 [0/60000 (0%)]\tLoss: 0.075685\n",
      "Train Epoch: 5 [6400/60000 (11%)]\tLoss: 0.024762\n",
      "Train Epoch: 5 [12800/60000 (21%)]\tLoss: 0.066674\n",
      "Train Epoch: 5 [19200/60000 (32%)]\tLoss: 0.026333\n",
      "Train Epoch: 5 [25600/60000 (43%)]\tLoss: 0.022859\n",
      "Train Epoch: 5 [32000/60000 (53%)]\tLoss: 0.024356\n",
      "Train Epoch: 5 [38400/60000 (64%)]\tLoss: 0.005937\n",
      "Train Epoch: 5 [44800/60000 (75%)]\tLoss: 0.020314\n",
      "Train Epoch: 5 [51200/60000 (85%)]\tLoss: 0.041585\n",
      "Train Epoch: 5 [57600/60000 (96%)]\tLoss: 0.071524\n",
      "\n",
      "Test set: Average loss: 0.0340, Accuracy: 9883/10000 (99%)\n",
      "\n"
     ]
    }
   ],
   "source": [
    "class Net(nn.Module):\n",
    "    def __init__(self):\n",
    "        super(Net, self).__init__()\n",
    "        self.conv1 = nn.Conv2d(1, 20, 5, 1)\n",
    "        self.conv2 = nn.Conv2d(20, 50, 5, 1)\n",
    "        self.fc1 = nn.Linear(4*4*50, 500)\n",
    "        self.fc2 = nn.Linear(500, 10)\n",
    "\n",
    "    def forward(self, x):\n",
    "        x = F.relu(self.conv1(x))\n",
    "        x = F.max_pool2d(x, 2, 2)\n",
    "        x = F.relu(self.conv2(x))\n",
    "        x = F.max_pool2d(x, 2, 2)\n",
    "        x = x.view(-1, 4*4*50)\n",
    "        x = F.relu(self.fc1(x))\n",
    "        x = self.fc2(x)\n",
    "        return F.log_softmax(x, dim=1)\n",
    "    \n",
    "def train(model, device, train_loader, optimizer, epoch):\n",
    "    model.train()\n",
    "    for batch_idx, (data, target) in enumerate(train_loader):\n",
    "        data, target = data.to(device), target.to(device)\n",
    "        optimizer.zero_grad()\n",
    "        output = model(data)\n",
    "        loss = F.nll_loss(output, target)\n",
    "        loss.backward()\n",
    "        optimizer.step()\n",
    "        if batch_idx % 100 == 0:\n",
    "            print(f\"Train Epoch: {epoch} [{batch_idx*len(data)}/{len(train_loader.dataset)} ({100. * batch_idx / len(train_loader):.0f}%)]\\tLoss: {loss.item():.6f}\")\n",
    "\n",
    "def test(model, device, test_loader):\n",
    "    model.eval()\n",
    "    test_loss = 0\n",
    "    correct = 0\n",
    "    with torch.no_grad():\n",
    "        for data, target in test_loader:\n",
    "            data, target = data.to(device), target.to(device)\n",
    "            output = model(data)\n",
    "            test_loss += F.nll_loss(output, target, reduction=\"sum\").item()\n",
    "            pred = output.argmax(dim=1, keepdim=True)\n",
    "            correct += pred.eq(target.view_as(pred)).sum().item()\n",
    "    test_loss /= len(test_loader.dataset)\n",
    "    print(f\"\\nTest set: Average loss: {test_loss:.4f}, Accuracy: {correct}/{len(test_loader.dataset)} ({100. * correct / len(test_loader.dataset):.0f}%)\\n\")\n",
    "\n",
    "\n",
    "def main():\n",
    "    print(f\"Target device is {device}\")\n",
    "    print(\"Loading MNIST dataset...\")\n",
    "    train_loader = torch.utils.data.DataLoader(\n",
    "        datasets.MNIST(\n",
    "            root=\".\", train=True, download=True,\n",
    "            transform=transforms.Compose([\n",
    "                transforms.ToTensor(),\n",
    "                transforms.Normalize((0.1307,), (0.3081,))\n",
    "            ])\n",
    "        ),\n",
    "        batch_size=64, shuffle=True\n",
    "    )\n",
    "    test_loader = torch.utils.data.DataLoader(\n",
    "        datasets.MNIST(\n",
    "            root=\".\", train=False, download=True,\n",
    "            transform=transforms.Compose([\n",
    "                transforms.ToTensor(),\n",
    "                transforms.Normalize((0.1307,), (0.3081,))\n",
    "            ])\n",
    "        ),\n",
    "        batch_size=1000, shuffle=True\n",
    "    )\n",
    "    print(\"Done.\")\n",
    "\n",
    "    model = Net().to(device)\n",
    "    optimizer = optim.SGD(model.parameters(), lr=0.01, momentum=0.5)\n",
    "\n",
    "    for epoch in range(1, EPOCHS + 1):\n",
    "        train(model, device, train_loader, optimizer, epoch)\n",
    "        test(model, device, test_loader)\n",
    "\n",
    "if __name__ == \"__main__\":\n",
    "    EPOCHS = 5\n",
    "    main()"
   ]
  }
 ],
 "metadata": {
  "kernelspec": {
   "display_name": "mlEnv",
   "language": "python",
   "name": "python3"
  },
  "language_info": {
   "codemirror_mode": {
    "name": "ipython",
    "version": 3
   },
   "file_extension": ".py",
   "mimetype": "text/x-python",
   "name": "python",
   "nbconvert_exporter": "python",
   "pygments_lexer": "ipython3",
   "version": "3.11.4"
  },
  "orig_nbformat": 4
 },
 "nbformat": 4,
 "nbformat_minor": 2
}
